{
 "cells": [
  {
   "cell_type": "markdown",
   "metadata": {},
   "source": [
    "# Plot and analyze results of MESA Type I X-ray burst simulations \n",
    "\n",
    "#### Read comments at the beginning of each cell to understand what it does"
   ]
  },
  {
   "cell_type": "code",
   "execution_count": 1,
   "metadata": {},
   "outputs": [
    {
     "name": "stdout",
     "output_type": "stream",
     "text": [
      "Populating the interactive namespace from numpy and matplotlib\n"
     ]
    }
   ],
   "source": [
    "# on an astrohub server use ipympl that enables the interactive features of \n",
    "# matplotlib in the Jupyter notebook and in JupyterLab\n",
    "%pylab ipympl  \n",
    "\n",
    "# for jupyter classic notebook use\n",
    "#%pylab nbagg\n",
    "\n",
    "from nugridpy import mesa as ms\n",
    "from nugridpy import utils as ut\n",
    "\n",
    "# begin counting figures\n",
    "ifig=0\n",
    "for i in range(0,10000):\n",
    "    close(i)"
   ]
  },
  {
   "cell_type": "code",
   "execution_count": 2,
   "metadata": {},
   "outputs": [],
   "source": [
    "#### this cell defines functions that allow to suppress unnecessary output information\n",
    "import os\n",
    "from contextlib import contextmanager\n",
    "@contextmanager\n",
    "def redirect_stdout(new_target):\n",
    "    old_target, sys.stdout = sys.stdout, new_target\n",
    "    try:\n",
    "        yield new_target\n",
    "    finally:\n",
    "        sys.stdout = old_target\n",
    "def get_devnull():\n",
    "    #return open(os.devnull, \"w\")\n",
    "    return open('log_stuff.txt', \"w\") #where all the stuff goes you don't want to see\n",
    "####"
   ]
  },
  {
   "cell_type": "code",
   "execution_count": 3,
   "metadata": {},
   "outputs": [
    {
     "name": "stdout",
     "output_type": "stream",
     "text": [
      "Msun = 1.988409870698051e+30\n",
      "Rsun = 695700000.0\n",
      "Lsun = 3.828e+26\n",
      "Newton's G = 6.6743e-11\n",
      "Stefan-Boltzmann constant = 5.6703744191844314e-08\n",
      "\n",
      "Stefan-Boltzmann sigma and solar radius and mass in cgs units: 5.6703744191844314e-05 69570000000.0 1.988409870698051e+33 3.828e+33\n"
     ]
    }
   ],
   "source": [
    "# astronomical and physical constants in SI units\n",
    "from astropy import constants as const\n",
    "from astropy import units as u\n",
    "\n",
    "Msun = (const.M_sun).value\n",
    "Rsun = (const.R_sun).value\n",
    "Lsun = (const.L_sun).value\n",
    "GN = (const.G).value  # Newton's constant \n",
    "sigma = (const.sigma_sb).value  # 1e3 tarnsforms SI units to sgs units\n",
    "print ('Msun =',Msun)\n",
    "print ('Rsun =',Rsun)\n",
    "print ('Lsun =',Lsun)\n",
    "print (\"Newton's G =\",GN)\n",
    "print (\"Stefan-Boltzmann constant =\",sigma)\n",
    "\n",
    "# transform to sgs units\n",
    "sigma = 1e3*sigma\n",
    "Rsun = 1e2*Rsun\n",
    "Msun = 1e3*Msun\n",
    "Lsun = 1e7*Lsun\n",
    "\n",
    "print ('\\nStefan-Boltzmann sigma and solar radius and mass in cgs units:',sigma,Rsun,Msun,Lsun)"
   ]
  },
  {
   "cell_type": "code",
   "execution_count": 6,
   "metadata": {},
   "outputs": [],
   "source": [
    "# name of your directory on astrohub/outreach server\n",
    "name = 'pavelden' # 'Pavel'\n",
    "\n",
    "# path to MESA work directory\n",
    "# on astrohub/outreach server\n",
    "mesa_work_dir = '/user/scratch14_outreach/'+name+'/canpan_projects/xrb_rp_process/xrb_mesa_canpan/' \n",
    "\n",
    "# on astrohub/outreach server\n",
    "\n",
    "# extension of directory name LOGS\n",
    "suffix = ''"
   ]
  },
  {
   "cell_type": "code",
   "execution_count": 8,
   "metadata": {},
   "outputs": [
    {
     "name": "stdout",
     "output_type": "stream",
     "text": [
      "Requested new history.datasa; create new from history.data\n",
      " reading ...100% \n",
      "\n",
      "Closing history.data  tool ...\n"
     ]
    }
   ],
   "source": [
    "# prepare data for plotting X-ray burst luminosity\n",
    "sh = ms.history_data(mesa_work_dir+'LOGS'+suffix,clean_starlog=True)\n",
    "age_s = 365.2422*86400*sh.get('star_age')\n",
    "age_hr = age_s/3600.\n",
    "mass_acc = sh.get('star_mass') - 1.4\n",
    "model = sh.get('model_number')\n",
    "L38 = (1e-38*Lsun)*(10.**sh.get('log_L'))\n",
    "lgTeff = sh.get('log_Teff')"
   ]
  },
  {
   "cell_type": "code",
   "execution_count": 9,
   "metadata": {},
   "outputs": [
    {
     "data": {
      "application/vnd.jupyter.widget-view+json": {
       "model_id": "4d42ef8fb0f14b33a10563ab729d8318",
       "version_major": 2,
       "version_minor": 0
      },
      "text/plain": [
       "Canvas(toolbar=Toolbar(toolitems=[('Home', 'Reset original view', 'home', 'home'), ('Back', 'Back to previous …"
      ]
     },
     "metadata": {},
     "output_type": "display_data"
    }
   ],
   "source": [
    "# HRD of NS experiencing XRBs\n",
    "ifig=ifig+1; close(ifig); fig=figure(ifig)\n",
    "size=6\n",
    "fig.canvas.layout.height = str(0.8*size)+'in'   # This is a hack to prevent ipympl\n",
    "fig.canvas.layout.width  = str(1.6*size)+'in'   # to adjust horizontal figure size\n",
    "\n",
    "sh.hrd()\n",
    "tight_layout()"
   ]
  },
  {
   "cell_type": "code",
   "execution_count": 10,
   "metadata": {},
   "outputs": [
    {
     "name": "stdout",
     "output_type": "stream",
     "text": [
      "peak # 0 from model 32 to model 228 228\n"
     ]
    }
   ],
   "source": [
    "# select models within all XRB peaks, i.e. where L38 > L38_min\n",
    "L38_min = 0.02\n",
    "xrb = -1\n",
    "i1 = []\n",
    "i2 = []\n",
    "\n",
    "# the first MESA model was\n",
    "model_1 = 3100\n",
    "\n",
    "for i in range(len(L38)):\n",
    "    if L38[i] > L38_min and xrb < 0:\n",
    "        i1.append(i)\n",
    "        xrb = +1\n",
    "    if L38[i] < L38_min and xrb > 0:\n",
    "        i2.append(i)\n",
    "        xrb = -1\n",
    "        \n",
    "k_end = 0\n",
    "if xrb > 0:\n",
    "    k_end = 1\n",
    "for k in range(len(i1)-k_end):\n",
    "    i22 = -1\n",
    "    if k <= len(i1)-1:\n",
    "        i22 = i2[k]\n",
    "    print ('peak #',k,'from model',i1[k],'to model',i2[k],i22)"
   ]
  },
  {
   "cell_type": "code",
   "execution_count": 11,
   "metadata": {},
   "outputs": [
    {
     "data": {
      "application/vnd.jupyter.widget-view+json": {
       "model_id": "90a016106e144f5e86cabbc6ddaf16e5",
       "version_major": 2,
       "version_minor": 0
      },
      "text/plain": [
       "Canvas(toolbar=Toolbar(toolitems=[('Home', 'Reset original view', 'home', 'home'), ('Back', 'Back to previous …"
      ]
     },
     "metadata": {},
     "output_type": "display_data"
    }
   ],
   "source": [
    "# plot all XRBs on a same time scale\n",
    "ifig=ifig+1; close(ifig); fig=figure(ifig)\n",
    "size=6\n",
    "fig.canvas.layout.height = str(0.8*size)+'in'   # This is a hack to prevent ipympl\n",
    "fig.canvas.layout.width  = str(1.6*size)+'in'   # to adjust horizontal figure size\n",
    "\n",
    "j = 1\n",
    "for k in range(len(i1)-k_end):\n",
    "    i22 = -1\n",
    "    if k <= len(i1)-1:\n",
    "        i22 = i2[k]\n",
    "    plot(age_s[i1[k]:i22]-age_s[i1[k]],L38[i1[k]:i22],color=ut.linestylecb(j)[2],linestyle=ut.linestylecb(j)[0],label='XRB #'+str(k+1))\n",
    "    j += 1\n",
    "\n",
    "xlim(0,150)\n",
    "ylim(-0.25,3.5)\n",
    "xlabel('$\\mathrm{time\\ (s)}$',fontsize=14)\n",
    "ylabel('$L_B\\ (10^{38}\\ \\mathrm{erg\\,s}^{-1})$',fontsize=14)\n",
    "xticks(fontsize=14)\n",
    "yticks(fontsize=14)\n",
    "legend(frameon=False,loc=1,fontsize=10)\n",
    "tight_layout()\n",
    "show()"
   ]
  },
  {
   "cell_type": "code",
   "execution_count": 12,
   "metadata": {},
   "outputs": [
    {
     "data": {
      "application/vnd.jupyter.widget-view+json": {
       "model_id": "e1575b19b4714d82b0a4f0f864a5c443",
       "version_major": 2,
       "version_minor": 0
      },
      "text/plain": [
       "Canvas(toolbar=Toolbar(toolitems=[('Home', 'Reset original view', 'home', 'home'), ('Back', 'Back to previous …"
      ]
     },
     "metadata": {},
     "output_type": "display_data"
    }
   ],
   "source": [
    "# plot XRB luminosity as a function of time in hours\n",
    "ifig=ifig+1; close(ifig); fig=figure(ifig)\n",
    "size=6\n",
    "fig.canvas.layout.height = str(0.8*size)+'in'   # This is a hack to prevent ipympl\n",
    "fig.canvas.layout.width  = str(1.6*size)+'in'   # to adjust horizontal figure size\n",
    "\n",
    "j = 0\n",
    "plot(age_hr,L38,color=ut.linestylecb(j)[2],linestyle=ut.linestylecb(j)[0],label='')\n",
    "\n",
    "#xlim(0,150)\n",
    "ylim(-0.25,3.5)\n",
    "xlabel('$\\mathrm{time\\ (hr)}$',fontsize=14)\n",
    "ylabel('$L_B\\ (10^{38}\\ \\mathrm{erg\\,s}^{-1})$',fontsize=14)\n",
    "xticks(fontsize=14)\n",
    "yticks(fontsize=14)\n",
    "#legend(frameon=False,loc=1,fontsize=12)\n",
    "tight_layout()\n",
    "show()"
   ]
  },
  {
   "cell_type": "code",
   "execution_count": 13,
   "metadata": {},
   "outputs": [
    {
     "data": {
      "application/vnd.jupyter.widget-view+json": {
       "model_id": "0f396be929424de9b3a7404dd8df1eee",
       "version_major": 2,
       "version_minor": 0
      },
      "text/plain": [
       "Canvas(toolbar=Toolbar(toolitems=[('Home', 'Reset original view', 'home', 'home'), ('Back', 'Back to previous …"
      ]
     },
     "metadata": {},
     "output_type": "display_data"
    }
   ],
   "source": [
    "# plot XRB luminosity as function of model number\n",
    "ifig=ifig+1; close(ifig); fig=figure(ifig)\n",
    "size=6\n",
    "fig.canvas.layout.height = str(0.8*size)+'in'   # This is a hack to prevent ipympl\n",
    "fig.canvas.layout.width  = str(1.6*size)+'in'   # to adjust horizontal figure size\n",
    "\n",
    "j = 1\n",
    "plot(model,L38,color=ut.linestylecb(j+7)[2],linestyle=ut.linestylecb(j+7)[0],label='')\n",
    "\n",
    "#xlim(0,500)\n",
    "ylim(0,3.5)\n",
    "xlabel('$\\mathrm{model}$',fontsize=14)\n",
    "ylabel('$L_B\\ (10^{38}\\ \\mathrm{erg\\,s}^{-1})$',fontsize=14)\n",
    "xticks(fontsize=14)\n",
    "yticks(fontsize=14)\n",
    "#legend(frameon=False,loc=2)\n",
    "tight_layout()\n",
    "show()"
   ]
  },
  {
   "cell_type": "code",
   "execution_count": 14,
   "metadata": {},
   "outputs": [
    {
     "name": "stdout",
     "output_type": "stream",
     "text": [
      "There are 23 profiles for the following models:\n",
      " [3110, 3120, 3130, 3140, 3150, 3160, 3170, 3180, 3190, 3200, 3210, 3220, 3230, 3240, 3250, 3260, 3270, 3280, 3290, 3300, 3310, 3320, 3330]\n"
     ]
    }
   ],
   "source": [
    "# read profiles.index file from path to LOGS directory that contains results of XRB computations\n",
    "f = open(mesa_work_dir+'LOGS'+suffix+'/profiles.index', 'r')\n",
    "\n",
    "profiles = []\n",
    "\n",
    "i=0\n",
    "for line in f:\n",
    "    if i >= 1:\n",
    "        profiles.append(int(float(line.split()[0])))\n",
    "    i += 1\n",
    "    \n",
    "f.close()\n",
    "\n",
    "print (\"There are\",len(profiles),\"profiles for the following models:\\n\", profiles)"
   ]
  },
  {
   "cell_type": "code",
   "execution_count": 15,
   "metadata": {},
   "outputs": [
    {
     "data": {
      "application/vnd.jupyter.widget-view+json": {
       "model_id": "f593b7ce76aa4205bea2a2d7bdc34e83",
       "version_major": 2,
       "version_minor": 0
      },
      "text/plain": [
       "Canvas(toolbar=Toolbar(toolitems=[('Home', 'Reset original view', 'home', 'home'), ('Back', 'Back to previous …"
      ]
     },
     "metadata": {},
     "output_type": "display_data"
    }
   ],
   "source": [
    "# plot a selected XRB along with available profiles\n",
    "\n",
    "# select k = XRB # - 1 \n",
    "k = 0\n",
    "\n",
    "ifig=ifig+1; close(ifig); fig=figure(ifig)\n",
    "size=8\n",
    "fig.canvas.layout.height = str(0.9*size)+'in'   # This is a hack to prevent ipympl\n",
    "fig.canvas.layout.width  = str(1.4*size)+'in'   # to adjust horizontal figure size\n",
    "\n",
    "# add models with selected profiles to the above HRD\n",
    "lgL_plot = []\n",
    "age_plot = []\n",
    "prof_plot = []\n",
    "\n",
    "i22 = -1\n",
    "if k <= len(i1)-1:\n",
    "    i22 = i2[k]\n",
    "\n",
    "j = k+1\n",
    "plot(age_s[i1[k]:i22]-age_s[i1[k]],L38[i1[k]:i22],color=ut.linestylecb(j)[2],linestyle=ut.linestylecb(j)[0],label='XRB #'+str(k+1))\n",
    "\n",
    "\n",
    "j = 0\n",
    "for mod in profiles:\n",
    "    for i in range(i1[k],i22):\n",
    "        #print (mod,i)\n",
    "        if i+model_1 == mod:\n",
    "            lgL_plot.append(L38[i])\n",
    "            age_plot.append(age_s[i]-age_s[i1[k]])\n",
    "            prof_plot.append(mod)\n",
    "            plot(age_plot[j],lgL_plot[j],marker='o',markerfacecolor=ut.linestylecb(j)[2],\\\n",
    "                markeredgecolor=ut.linestylecb(j)[2],label='model '+str(mod))\n",
    "            j += 1\n",
    "            if j > 20:\n",
    "                j = 0\n",
    "\n",
    "                \n",
    "xlim(0,150)\n",
    "ylim(-0.25,3.0)\n",
    "xlabel('$\\mathrm{time\\ (s)}$',fontsize=14)\n",
    "ylabel('$L_B\\ (10^{38}\\ \\mathrm{erg\\,s}^{-1})$',fontsize=14)\n",
    "xticks(fontsize=14)\n",
    "yticks(fontsize=14)\n",
    "legend(frameon=False,loc=1,fontsize=10,ncol=4)\n",
    "tight_layout()\n",
    "show()"
   ]
  },
  {
   "cell_type": "code",
   "execution_count": 16,
   "metadata": {},
   "outputs": [
    {
     "data": {
      "application/vnd.jupyter.widget-view+json": {
       "model_id": "751a6d104a7b4708a1988bd9dc8442ae",
       "version_major": 2,
       "version_minor": 0
      },
      "text/plain": [
       "Canvas(toolbar=Toolbar(toolitems=[('Home', 'Reset original view', 'home', 'home'), ('Back', 'Back to previous …"
      ]
     },
     "metadata": {},
     "output_type": "display_data"
    }
   ],
   "source": [
    "# plot mass accreted by NS\n",
    "ifig=ifig+1; close(ifig); fig=figure(ifig)\n",
    "size=6\n",
    "fig.canvas.layout.height = str(0.8*size)+'in'   # This is a hack to prevent ipympl\n",
    "fig.canvas.layout.width  = str(1.6*size)+'in'   # to adjust horizontal figure size\n",
    "\n",
    "j = 1\n",
    "semilogy(age_hr,mass_acc,color=ut.linestylecb(j+7)[2],linestyle=ut.linestylecb(j+7)[0],label='')\n",
    "\n",
    "#xlim(0,500)\n",
    "#ylim(0,3.0)\n",
    "xlabel('$\\mathrm{time\\ (hr)}$',fontsize=14)\n",
    "ylabel('$M_\\mathrm{acc}/M_\\odot$',fontsize=14)\n",
    "xticks(fontsize=14)\n",
    "yticks(fontsize=14)\n",
    "#legend(frameon=False,loc=2)\n",
    "tight_layout()\n",
    "show()"
   ]
  },
  {
   "cell_type": "code",
   "execution_count": 17,
   "metadata": {},
   "outputs": [
    {
     "data": {
      "application/vnd.jupyter.widget-view+json": {
       "model_id": "f97c90ed19ba4150b9b51408fc78fff1",
       "version_major": 2,
       "version_minor": 0
      },
      "text/plain": [
       "Canvas(toolbar=Toolbar(toolitems=[('Home', 'Reset original view', 'home', 'home'), ('Back', 'Back to previous …"
      ]
     },
     "metadata": {},
     "output_type": "display_data"
    }
   ],
   "source": [
    "# plot radial temperature profiles for the selected XRB peak\n",
    "ifig=ifig+1; close(ifig); fig=figure(ifig)\n",
    "size=8\n",
    "fig.canvas.layout.height = str(0.9*size)+'in'   # This is a hack to prevent ipympl\n",
    "fig.canvas.layout.width  = str(1.1*size)+'in'   # to adjust horizontal figure size\n",
    "\n",
    "results_dir = mesa_work_dir + 'LOGS'+suffix\n",
    "\n",
    "j = 0\n",
    "\n",
    "with get_devnull() as devnull, redirect_stdout(devnull):\n",
    "    for model_plot in prof_plot:\n",
    "        mod=ms.mesa_profile(results_dir,model_plot)\n",
    "        rad = Rsun*mod.get('radius') # radius in cm\n",
    "        rad = rad - rad[-1] # radius in cm counted from the envelope base\n",
    "        lgT = mod.get('logT')\n",
    "\n",
    "        plot(rad,lgT,color=ut.linestylecb(j+1)[2],linestyle=ut.linestylecb(j+1)[0],label='model '+str(model_plot))\n",
    "    \n",
    "        j += 1\n",
    "\n",
    "xlim(0,5500)\n",
    "ylim(7,9.25)\n",
    "xlabel('$r\\ \\mathrm{(cm)}$',fontsize=14)\n",
    "ylabel('$\\log_{10}\\,T\\ \\mathrm{(K)}$',fontsize=14)\n",
    "xticks(fontsize=14)\n",
    "yticks(fontsize=14)\n",
    "legend(frameon=False,loc=1,fontsize=8)\n",
    "tight_layout()\n",
    "show()"
   ]
  },
  {
   "cell_type": "code",
   "execution_count": 18,
   "metadata": {},
   "outputs": [
    {
     "data": {
      "application/vnd.jupyter.widget-view+json": {
       "model_id": "b85d3009ebab4365aba24b2652aef001",
       "version_major": 2,
       "version_minor": 0
      },
      "text/plain": [
       "Canvas(toolbar=Toolbar(toolitems=[('Home', 'Reset original view', 'home', 'home'), ('Back', 'Back to previous …"
      ]
     },
     "metadata": {},
     "output_type": "display_data"
    }
   ],
   "source": [
    "# plot radial density profiles for the selected XRB peak\n",
    "ifig=ifig+1; close(ifig); fig=figure(ifig)\n",
    "size=8\n",
    "fig.canvas.layout.height = str(0.9*size)+'in'   # This is a hack to prevent ipympl\n",
    "fig.canvas.layout.width  = str(1.1*size)+'in'   # to adjust horizontal figure size\n",
    "\n",
    "results_dir = mesa_work_dir + 'LOGS'+suffix\n",
    "\n",
    "j = 0\n",
    "\n",
    "with get_devnull() as devnull, redirect_stdout(devnull):\n",
    "    for model_plot in prof_plot:\n",
    "        mod=ms.mesa_profile(results_dir,model_plot)\n",
    "        rad = Rsun*mod.get('radius') # radius in cm\n",
    "        rad = rad - rad[-1] # radius in cm counted from the envelope base\n",
    "        lgRho = mod.get('logRho')\n",
    "\n",
    "        plot(rad,lgRho,color=ut.linestylecb(j+1)[2],linestyle=ut.linestylecb(j+1)[0],label='model '+str(model_plot))\n",
    "    \n",
    "        j += 1\n",
    "\n",
    "xlim(0,5500)\n",
    "ylim(0,7)\n",
    "xlabel('$r\\ \\mathrm{(cm)}$',fontsize=14)\n",
    "ylabel('$\\log_{10}\\,\\\\rho\\ \\mathrm{(K)}$',fontsize=14)\n",
    "xticks(fontsize=14)\n",
    "yticks(fontsize=14)\n",
    "legend(frameon=False,loc=1,fontsize=8)\n",
    "tight_layout()\n",
    "show()"
   ]
  },
  {
   "cell_type": "code",
   "execution_count": 19,
   "metadata": {},
   "outputs": [
    {
     "data": {
      "application/vnd.jupyter.widget-view+json": {
       "model_id": "18c3a1ba348b47818a89aaed3a9d6ec4",
       "version_major": 2,
       "version_minor": 0
      },
      "text/plain": [
       "Canvas(toolbar=Toolbar(toolitems=[('Home', 'Reset original view', 'home', 'home'), ('Back', 'Back to previous …"
      ]
     },
     "metadata": {},
     "output_type": "display_data"
    },
    {
     "name": "stdout",
     "output_type": "stream",
     "text": [
      "23 in profiles.index file ...\n",
      "Found and load nearest profile for cycle 3180\n",
      "reading profile/user/scratch14_outreach/pavelden/canpan_projects/xrb_rp_process/xrb_mesa_canpan/LOGS/profile8.data ...\n",
      " reading ...100% \n",
      "\n",
      "Closing profile tool ...\n"
     ]
    }
   ],
   "source": [
    "# plot radial profiles of elemental abundances\n",
    "\n",
    "ifig=ifig+1; close(ifig); fig=figure(ifig)\n",
    "size=8\n",
    "fig.canvas.layout.height = str(0.9*size)+'in'   # This is a hack to prevent ipympl\n",
    "fig.canvas.layout.width  = str(1.1*size)+'in'   # to adjust horizontal figure size\n",
    "\n",
    "j = 2\n",
    "\n",
    "model_plot = prof_plot[4]\n",
    "\n",
    "results_dir = mesa_work_dir + 'LOGS'+suffix\n",
    "mod=ms.mesa_profile(results_dir,model_plot)\n",
    "rad = Rsun*mod.get('radius') # radius in cm\n",
    "rad = rad - rad[-1] # radius in cm counted from the envelope base\n",
    "xh = mod.get('h1')\n",
    "xhe = mod.get('he4')\n",
    "xc = mod.get('c12')\n",
    "xo = mod.get('o16')\n",
    "xfe = mod.get('fe56')\n",
    "\n",
    "semilogy(rad,xh,color=ut.linestylecb(j+1)[2],linestyle=ut.linestylecb(j+1)[0],label='$X(\\mathrm{H})$')\n",
    "semilogy(rad,xhe,color=ut.linestylecb(j+2)[2],linestyle=ut.linestylecb(j+2)[0],label='$X(^4\\mathrm{He})$')\n",
    "semilogy(rad,xc,color=ut.linestylecb(j+3)[2],linestyle=ut.linestylecb(j+3)[0],label='$X(^{12}\\mathrm{C})$')\n",
    "semilogy(rad,xo,color=ut.linestylecb(j+4)[2],linestyle=ut.linestylecb(j+4)[0],label='$X(^{16}\\mathrm{O})$')\n",
    "semilogy(rad,xfe,color=ut.linestylecb(j+5)[2],linestyle=ut.linestylecb(j+5)[0],label='$X(^{56}\\mathrm{Fe})$')\n",
    "\n",
    "xlim(0,5500)\n",
    "ylim(1e-5,1e0)\n",
    "xlabel('$r\\ \\mathrm{(cm)}$',fontsize=14)\n",
    "ylabel('$\\log_{10}\\,X_i$',fontsize=14)\n",
    "xticks(fontsize=14)\n",
    "yticks(fontsize=14)\n",
    "legend(frameon=False,fontsize=12)\n",
    "title('model '+str(model_plot))\n",
    "tight_layout()\n",
    "show()"
   ]
  },
  {
   "cell_type": "code",
   "execution_count": 20,
   "metadata": {},
   "outputs": [
    {
     "data": {
      "application/vnd.jupyter.widget-view+json": {
       "model_id": "6a68794fc8074690aceb63faaeaf6d4b",
       "version_major": 2,
       "version_minor": 0
      },
      "text/plain": [
       "Canvas(toolbar=Toolbar(toolitems=[('Home', 'Reset original view', 'home', 'home'), ('Back', 'Back to previous …"
      ]
     },
     "metadata": {},
     "output_type": "display_data"
    }
   ],
   "source": [
    "# plot profiles of MLT diffusion coefficient for the selected XRB peak\n",
    "ifig=ifig+1; close(ifig); fig=figure(ifig)\n",
    "size=8\n",
    "fig.canvas.layout.height = str(0.9*size)+'in'   # This is a hack to prevent ipympl\n",
    "fig.canvas.layout.width  = str(1.1*size)+'in'   # to adjust horizontal figure size\n",
    "\n",
    "results_dir = mesa_work_dir + 'LOGS'+suffix\n",
    "\n",
    "j = 0\n",
    "\n",
    "with get_devnull() as devnull, redirect_stdout(devnull):\n",
    "    for model_plot in prof_plot:\n",
    "        mod=ms.mesa_profile(results_dir,model_plot)\n",
    "        rad = Rsun*mod.get('radius') # radius in cm\n",
    "        rad = rad - rad[-1] # radius in cm counted from the envelope base\n",
    "        lgDmix = mod.get('log_mlt_D_mix')\n",
    "\n",
    "        plot(rad,lgDmix,color=ut.linestylecb(j+1)[2],linestyle=ut.linestylecb(j+1)[0],label='model '+str(model_plot))\n",
    "    \n",
    "        j += 1\n",
    "\n",
    "xlim(0,5500)\n",
    "ylim(4,10)\n",
    "xlabel('$r\\ \\mathrm{(cm)}$',fontsize=14)\n",
    "ylabel('$\\log_{10}\\,D_\\mathrm{conv}$',fontsize=14)\n",
    "xticks(fontsize=14)\n",
    "yticks(fontsize=14)\n",
    "legend(frameon=False,loc=1,fontsize=8)\n",
    "tight_layout()\n",
    "show()"
   ]
  },
  {
   "cell_type": "code",
   "execution_count": 21,
   "metadata": {},
   "outputs": [
    {
     "name": "stdout",
     "output_type": "stream",
     "text": [
      "Searching files, please wait.......\n",
      "Writing preprocessor files\n",
      "ns_star_hdf.0003101.se.h5\n"
     ]
    },
    {
     "name": "stderr",
     "output_type": "stream",
     "text": [
      "Exception in thread Thread-4:\n",
      "Traceback (most recent call last):\n",
      "  File \"/usr/lib/python3.6/threading.py\", line 916, in _bootstrap_inner\n",
      "    self.run()\n",
      "  File \"/usr/local/lib/python3.6/dist-packages/nugridpy/h5T.py\", line 458, in run\n",
      "    write(self.preprocName,header,dcols,data,sldir=self.filename)\n",
      "  File \"/usr/local/lib/python3.6/dist-packages/nugridpy/ascii_table.py\", line 480, in write\n",
      "    tmp1=data_fmt.format(data[i][j])\n",
      "ValueError: Unknown format code 'f' for object of type 'str'\n",
      "\n"
     ]
    }
   ],
   "source": [
    "# read se data from MESA XRB simulation\n",
    "from nugridpy import nugridse as nuse\n",
    "\n",
    "s=nuse.se(mesa_work_dir+'ns_star_hdf'+suffix)"
   ]
  },
  {
   "cell_type": "code",
   "execution_count": 22,
   "metadata": {},
   "outputs": [
    {
     "name": "stdout",
     "output_type": "stream",
     "text": [
      " reading ['rho']...100%]...100%"
     ]
    }
   ],
   "source": [
    "# prepare data for plotting and writing maximum temperature and density as functions of time for slected XRB\n",
    "\n",
    "# select k = XRB # -1\n",
    "k = 0\n",
    "    \n",
    "ncyc = i2[k] - i1[k]\n",
    "    \n",
    "# find maximum temperature and its corresponding density for all cycles (it may take a few minutes)\n",
    "t9_max = linspace(0,0,ncyc)\n",
    "rho_max = linspace(0,0,ncyc)\n",
    "age_max = linspace(0,0,ncyc)\n",
    "\n",
    "i = 0\n",
    "for cyc in range(i1[k],i2[k]):\n",
    "    cycle = cyc + model_1\n",
    "    age = s.get(cycle,'age')\n",
    "    tem = s.get(cycle,'temperature')\n",
    "    rho = s.get(cycle,'rho')\n",
    "    item_max = argmax(tem)\n",
    "    t9_max[i] = tem[item_max] # max(tem)\n",
    "    rho_max[i] = rho[item_max]\n",
    "    age_max[i] = age\n",
    "    i += 1\n",
    "    #print (len(rho),item_max)"
   ]
  },
  {
   "cell_type": "code",
   "execution_count": 23,
   "metadata": {},
   "outputs": [
    {
     "name": "stdout",
     "output_type": "stream",
     "text": [
      "\n",
      "Maximum temperature T9 = 1.085666035404317  (GK) is reached at cycle 60\n"
     ]
    }
   ],
   "source": [
    "# find a cycle with maximum T and its age, use this age as age zero-point\n",
    "cyc_t9max = i1[k] + argmax(t9_max)\n",
    "print ('\\nMaximum temperature T9 =',1e-9*max(t9_max),' (GK) is reached at cycle',cyc_t9max)"
   ]
  },
  {
   "cell_type": "code",
   "execution_count": 24,
   "metadata": {},
   "outputs": [
    {
     "name": "stdout",
     "output_type": "stream",
     "text": [
      "2000\n"
     ]
    }
   ],
   "source": [
    "# read in the trajectory from the NuPPN example ppn_XRB_K04\n",
    "\n",
    "example_dir=\"/user/scratch14_wendi3/dpa/nuppn/examples/ppn_XRB_K04/\"\n",
    "file_name='trajectory.input'\n",
    "\n",
    "file_to_read = example_dir+file_name\n",
    "\n",
    "f = open(file_to_read, 'r')\n",
    "\n",
    "age_ex=[]\n",
    "t9_ex = []\n",
    "rho_ex = []\n",
    "\n",
    "k = 0\n",
    "\n",
    "for line in f:\n",
    "    #print (line)\n",
    "    if k < 7:\n",
    "        k += 1\n",
    "        continue\n",
    "    #print (line)\n",
    "    age_ex.append(float(line.split()[0]))\n",
    "    t9_ex.append(1e9*float(line.split()[1]))\n",
    "    rho_ex.append(float(line.split()[2]))\n",
    "    \n",
    "f.close()\n",
    " \n",
    "n_ex = len(age_ex)\n",
    "print (n_ex)\n",
    "#for i in range(n_ex):\n",
    "#    print (i, age_ex[i],t9_ex[i],rho_ex[i])"
   ]
  },
  {
   "cell_type": "code",
   "execution_count": 25,
   "metadata": {},
   "outputs": [],
   "source": [
    "# populate the interactive namespace with the function \n",
    "# that makes 1d interpolation\n",
    "from scipy.interpolate import interp1d\n",
    "\n",
    "# interpolate t9_max and rho_max onto a denser time mesh\n",
    "n_int = 2000\n",
    "age_int = linspace(age_max[0],age_max[-1],n_int)\n",
    "t_int = linspace(0,0,n_int)\n",
    "rho_int = linspace(0,0,n_int)\n",
    "\n",
    "kind_int = 'slinear'\n",
    "\n",
    "f_t = interp1d(age_max,t9_max,kind=kind_int)\n",
    "f_rho = interp1d(age_max,rho_max,kind=kind_int)\n",
    "\n",
    "for i in range(n_int):\n",
    "    t_int[i] = f_t([age_int[i]])\n",
    "    rho_int[i] = f_rho([age_int[i]])"
   ]
  },
  {
   "cell_type": "code",
   "execution_count": 28,
   "metadata": {},
   "outputs": [
    {
     "data": {
      "application/vnd.jupyter.widget-view+json": {
       "model_id": "de2cbd10bb1943aa96589c1b2e3eae55",
       "version_major": 2,
       "version_minor": 0
      },
      "text/plain": [
       "Canvas(toolbar=Toolbar(toolitems=[('Home', 'Reset original view', 'home', 'home'), ('Back', 'Back to previous …"
      ]
     },
     "metadata": {},
     "output_type": "display_data"
    }
   ],
   "source": [
    "# plot evolutionary profiles of maximum T and rho\n",
    "ifig = ifig+1\n",
    "\n",
    "fig, ax1 = subplots()\n",
    "\n",
    "size=8\n",
    "fig.canvas.layout.height = str(0.9*size)+'in'   # This is a hack to prevent ipympl\n",
    "fig.canvas.layout.width  = str(1.1*size)+'in'   # to adjust horizontal figure size\n",
    "\n",
    "name1 = '$T\\ \\mathrm{(model)}$'\n",
    "#lns1 = ax1.plot(age_max-age_max[0], t9_max,\\\n",
    "#                color=ut.linestylecb(0)[2], linestyle=ut.linestylecb(0)[0],label=name1)\n",
    "lns1 = ax1.plot(age_int-age_int[0], t_int,\\\n",
    "                color=ut.linestylecb(0)[2], linestyle=ut.linestylecb(0)[0],label=name1)\n",
    "name12 = '$T\\ \\mathrm{(XRB\\ example)}$'\n",
    "lns12 = ax1.plot(age_ex,t9_ex,color=ut.linestylecb(2)[2], linestyle=ut.linestylecb(2)[0],label=name12)\n",
    "\n",
    "ax1.set_xlabel('time (s)')\n",
    "# Make the y-axis label, ticks and tick labels match the line color.\n",
    "ax1.set_ylabel(name1)\n",
    "ax1.tick_params('y')\n",
    "\n",
    "#age_minute_max = 2750.\n",
    "#ax1.set_xlim(-50,age_minute_max)\n",
    "\n",
    "#t9_max_min = 0.075\n",
    "#ax1.set_ylim(t9_max_min,0.350)\n",
    "\n",
    "ax2 = ax1.twinx()\n",
    "name2 = '$\\\\rho\\ \\mathrm{(model)}$'\n",
    "#lns2 = ax2.semilogy(age_max-age_max[0], rho_max,\\\n",
    "#            color=ut.linestylecb(1)[2],linestyle=ut.linestylecb(1)[0],label=name2)\n",
    "lns2 = ax2.semilogy(age_int-age_int[0], rho_int,\\\n",
    "            color=ut.linestylecb(1)[2],linestyle=ut.linestylecb(1)[0],label=name2)\n",
    "name22 = '$\\\\rho\\ (XRB\\ example)$'\n",
    "lns22 = ax2.semilogy(age_ex,rho_ex,color=ut.linestylecb(3)[2],linestyle=ut.linestylecb(3)[0],label=name22)\n",
    "ax2.set_ylabel(name2+'$\\ [\\mathrm{g\\,cm}^{-3}]$')\n",
    "ax2.tick_params('y')\n",
    "#ax2.set_ylim(5e0,1e4)\n",
    "\n",
    "# added these four lines\n",
    "#lns = lns1+lns2\n",
    "lns = lns1+lns12+lns2+lns22\n",
    "labs = [l.get_label() for l in lns]\n",
    "ax2.legend(lns, labs, loc=7, frameon=False)\n",
    "\n",
    "fig.tight_layout()\n",
    "fig.show()"
   ]
  },
  {
   "cell_type": "code",
   "execution_count": 27,
   "metadata": {},
   "outputs": [],
   "source": [
    "# save evolutonary changes of maximum T and rho in trajectory file that can be used by ppn code in one-zone simulations\n",
    "file_out=\"trajectory.input\"\n",
    "fout=open(mesa_work_dir+file_out,'w')\n",
    "\n",
    "line1_out=\"# time T rho\\n\"\n",
    "line2_out=\"# YRS/SEC; T8K/T9K; CGS/LOG\\n\"\n",
    "line3_out=\"# FORMAT: '(10x,A3)'\\n\"\n",
    "line4_out=\"AGEUNIT = SEC\\n\"\n",
    "line5_out=\"TUNIT   = T9K\\n\"\n",
    "line6_out=\"RHOUNIT = CGS\\n\"\n",
    "line7_out=\"ID = 0\\n\"\n",
    "\n",
    "fout.write(line1_out)\n",
    "fout.write(line2_out)\n",
    "fout.write(line3_out)\n",
    "fout.write(line4_out)\n",
    "fout.write(line5_out)\n",
    "fout.write(line6_out)\n",
    "fout.write(line7_out)\n",
    "\n",
    "for i in range(len(age_int)):\n",
    "    line_out=\" \"+str(\"{:.6}\".format((age_int[i]-age_int[0])))+\" \"+str(\"{:.4}\".format(1e-9*t_int[i]))\\\n",
    "        +\" \"+str(\"{:.6}\".format(rho_int[i]))+\"\\n\"\n",
    "    #line_out=\" \"+str(time[i])+\" \"+str(tem[i])+\" \"+str(den[i])+\" \"+str(xh[i])+\"\\n\"  # with X\n",
    "    fout.write(line_out)\n",
    "fout.close()"
   ]
  },
  {
   "cell_type": "code",
   "execution_count": null,
   "metadata": {},
   "outputs": [],
   "source": []
  }
 ],
 "metadata": {
  "kernelspec": {
   "display_name": "Python 3",
   "language": "python",
   "name": "python3"
  },
  "language_info": {
   "codemirror_mode": {
    "name": "ipython",
    "version": 3
   },
   "file_extension": ".py",
   "mimetype": "text/x-python",
   "name": "python",
   "nbconvert_exporter": "python",
   "pygments_lexer": "ipython3",
   "version": "3.6.8"
  }
 },
 "nbformat": 4,
 "nbformat_minor": 4
}
